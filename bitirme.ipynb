{
  "nbformat": 4,
  "nbformat_minor": 0,
  "metadata": {
    "colab": {
      "provenance": [],
      "include_colab_link": true
    },
    "kernelspec": {
      "name": "python3",
      "display_name": "Python 3"
    },
    "language_info": {
      "name": "python"
    }
  },
  "cells": [
    {
      "cell_type": "markdown",
      "metadata": {
        "id": "view-in-github",
        "colab_type": "text"
      },
      "source": [
        "<a href=\"https://colab.research.google.com/github/deryacoban/final-project/blob/derya/bitirme.ipynb\" target=\"_parent\"><img src=\"https://colab.research.google.com/assets/colab-badge.svg\" alt=\"Open In Colab\"/></a>"
      ]
    },
    {
      "cell_type": "code",
      "execution_count": 4,
      "metadata": {
        "colab": {
          "base_uri": "https://localhost:8080/"
        },
        "id": "6crJkV5PfAEd",
        "outputId": "b35bd80d-b1db-4a19-d292-05170d23e71a",
        "collapsed": true
      },
      "outputs": [
        {
          "output_type": "stream",
          "name": "stdout",
          "text": [
            "Cloning into 'YOLOv6'...\n",
            "remote: Enumerating objects: 3838, done.\u001b[K\n",
            "remote: Total 3838 (delta 0), reused 0 (delta 0), pack-reused 3838 (from 1)\u001b[K\n",
            "Receiving objects: 100% (3838/3838), 43.99 MiB | 29.06 MiB/s, done.\n",
            "Resolving deltas: 100% (2298/2298), done.\n",
            "/content/YOLOv6\n",
            "Requirement already satisfied: torch>=1.8.0 in /usr/local/lib/python3.10/dist-packages (from -r requirements.txt (line 4)) (2.5.1+cu121)\n",
            "Requirement already satisfied: torchvision>=0.9.0 in /usr/local/lib/python3.10/dist-packages (from -r requirements.txt (line 5)) (0.20.1+cu121)\n",
            "Requirement already satisfied: numpy>=1.24.0 in /usr/local/lib/python3.10/dist-packages (from -r requirements.txt (line 6)) (1.26.4)\n",
            "Requirement already satisfied: opencv-python>=4.1.2 in /usr/local/lib/python3.10/dist-packages (from -r requirements.txt (line 7)) (4.10.0.84)\n",
            "Requirement already satisfied: PyYAML>=5.3.1 in /usr/local/lib/python3.10/dist-packages (from -r requirements.txt (line 8)) (6.0.2)\n",
            "Requirement already satisfied: scipy>=1.4.1 in /usr/local/lib/python3.10/dist-packages (from -r requirements.txt (line 9)) (1.13.1)\n",
            "Requirement already satisfied: tqdm>=4.41.0 in /usr/local/lib/python3.10/dist-packages (from -r requirements.txt (line 10)) (4.67.1)\n",
            "Collecting addict>=2.4.0 (from -r requirements.txt (line 11))\n",
            "  Downloading addict-2.4.0-py3-none-any.whl.metadata (1.0 kB)\n",
            "Requirement already satisfied: tensorboard>=2.7.0 in /usr/local/lib/python3.10/dist-packages (from -r requirements.txt (line 12)) (2.17.1)\n",
            "Requirement already satisfied: pycocotools>=2.0 in /usr/local/lib/python3.10/dist-packages (from -r requirements.txt (line 13)) (2.0.8)\n",
            "Collecting onnx>=1.10.0 (from -r requirements.txt (line 14))\n",
            "  Downloading onnx-1.17.0-cp310-cp310-manylinux_2_17_x86_64.manylinux2014_x86_64.whl.metadata (16 kB)\n",
            "Collecting onnx-simplifier>=0.3.6 (from -r requirements.txt (line 15))\n",
            "  Downloading onnx_simplifier-0.4.36-cp310-cp310-manylinux_2_17_x86_64.manylinux2014_x86_64.whl.metadata (4.3 kB)\n",
            "Collecting thop (from -r requirements.txt (line 16))\n",
            "  Downloading thop-0.1.1.post2209072238-py3-none-any.whl.metadata (2.7 kB)\n",
            "Requirement already satisfied: filelock in /usr/local/lib/python3.10/dist-packages (from torch>=1.8.0->-r requirements.txt (line 4)) (3.16.1)\n",
            "Requirement already satisfied: typing-extensions>=4.8.0 in /usr/local/lib/python3.10/dist-packages (from torch>=1.8.0->-r requirements.txt (line 4)) (4.12.2)\n",
            "Requirement already satisfied: networkx in /usr/local/lib/python3.10/dist-packages (from torch>=1.8.0->-r requirements.txt (line 4)) (3.4.2)\n",
            "Requirement already satisfied: jinja2 in /usr/local/lib/python3.10/dist-packages (from torch>=1.8.0->-r requirements.txt (line 4)) (3.1.4)\n",
            "Requirement already satisfied: fsspec in /usr/local/lib/python3.10/dist-packages (from torch>=1.8.0->-r requirements.txt (line 4)) (2024.10.0)\n",
            "Requirement already satisfied: sympy==1.13.1 in /usr/local/lib/python3.10/dist-packages (from torch>=1.8.0->-r requirements.txt (line 4)) (1.13.1)\n",
            "Requirement already satisfied: mpmath<1.4,>=1.1.0 in /usr/local/lib/python3.10/dist-packages (from sympy==1.13.1->torch>=1.8.0->-r requirements.txt (line 4)) (1.3.0)\n",
            "Requirement already satisfied: pillow!=8.3.*,>=5.3.0 in /usr/local/lib/python3.10/dist-packages (from torchvision>=0.9.0->-r requirements.txt (line 5)) (11.0.0)\n",
            "Requirement already satisfied: absl-py>=0.4 in /usr/local/lib/python3.10/dist-packages (from tensorboard>=2.7.0->-r requirements.txt (line 12)) (1.4.0)\n",
            "Requirement already satisfied: grpcio>=1.48.2 in /usr/local/lib/python3.10/dist-packages (from tensorboard>=2.7.0->-r requirements.txt (line 12)) (1.68.1)\n",
            "Requirement already satisfied: markdown>=2.6.8 in /usr/local/lib/python3.10/dist-packages (from tensorboard>=2.7.0->-r requirements.txt (line 12)) (3.7)\n",
            "Requirement already satisfied: packaging in /usr/local/lib/python3.10/dist-packages (from tensorboard>=2.7.0->-r requirements.txt (line 12)) (24.2)\n",
            "Requirement already satisfied: protobuf!=4.24.0,>=3.19.6 in /usr/local/lib/python3.10/dist-packages (from tensorboard>=2.7.0->-r requirements.txt (line 12)) (4.25.5)\n",
            "Requirement already satisfied: setuptools>=41.0.0 in /usr/local/lib/python3.10/dist-packages (from tensorboard>=2.7.0->-r requirements.txt (line 12)) (75.1.0)\n",
            "Requirement already satisfied: six>1.9 in /usr/local/lib/python3.10/dist-packages (from tensorboard>=2.7.0->-r requirements.txt (line 12)) (1.17.0)\n",
            "Requirement already satisfied: tensorboard-data-server<0.8.0,>=0.7.0 in /usr/local/lib/python3.10/dist-packages (from tensorboard>=2.7.0->-r requirements.txt (line 12)) (0.7.2)\n",
            "Requirement already satisfied: werkzeug>=1.0.1 in /usr/local/lib/python3.10/dist-packages (from tensorboard>=2.7.0->-r requirements.txt (line 12)) (3.1.3)\n",
            "Requirement already satisfied: matplotlib>=2.1.0 in /usr/local/lib/python3.10/dist-packages (from pycocotools>=2.0->-r requirements.txt (line 13)) (3.8.0)\n",
            "Requirement already satisfied: rich in /usr/local/lib/python3.10/dist-packages (from onnx-simplifier>=0.3.6->-r requirements.txt (line 15)) (13.9.4)\n",
            "Requirement already satisfied: contourpy>=1.0.1 in /usr/local/lib/python3.10/dist-packages (from matplotlib>=2.1.0->pycocotools>=2.0->-r requirements.txt (line 13)) (1.3.1)\n",
            "Requirement already satisfied: cycler>=0.10 in /usr/local/lib/python3.10/dist-packages (from matplotlib>=2.1.0->pycocotools>=2.0->-r requirements.txt (line 13)) (0.12.1)\n",
            "Requirement already satisfied: fonttools>=4.22.0 in /usr/local/lib/python3.10/dist-packages (from matplotlib>=2.1.0->pycocotools>=2.0->-r requirements.txt (line 13)) (4.55.3)\n",
            "Requirement already satisfied: kiwisolver>=1.0.1 in /usr/local/lib/python3.10/dist-packages (from matplotlib>=2.1.0->pycocotools>=2.0->-r requirements.txt (line 13)) (1.4.7)\n",
            "Requirement already satisfied: pyparsing>=2.3.1 in /usr/local/lib/python3.10/dist-packages (from matplotlib>=2.1.0->pycocotools>=2.0->-r requirements.txt (line 13)) (3.2.0)\n",
            "Requirement already satisfied: python-dateutil>=2.7 in /usr/local/lib/python3.10/dist-packages (from matplotlib>=2.1.0->pycocotools>=2.0->-r requirements.txt (line 13)) (2.8.2)\n",
            "Requirement already satisfied: MarkupSafe>=2.1.1 in /usr/local/lib/python3.10/dist-packages (from werkzeug>=1.0.1->tensorboard>=2.7.0->-r requirements.txt (line 12)) (3.0.2)\n",
            "Requirement already satisfied: markdown-it-py>=2.2.0 in /usr/local/lib/python3.10/dist-packages (from rich->onnx-simplifier>=0.3.6->-r requirements.txt (line 15)) (3.0.0)\n",
            "Requirement already satisfied: pygments<3.0.0,>=2.13.0 in /usr/local/lib/python3.10/dist-packages (from rich->onnx-simplifier>=0.3.6->-r requirements.txt (line 15)) (2.18.0)\n",
            "Requirement already satisfied: mdurl~=0.1 in /usr/local/lib/python3.10/dist-packages (from markdown-it-py>=2.2.0->rich->onnx-simplifier>=0.3.6->-r requirements.txt (line 15)) (0.1.2)\n",
            "Downloading addict-2.4.0-py3-none-any.whl (3.8 kB)\n",
            "Downloading onnx-1.17.0-cp310-cp310-manylinux_2_17_x86_64.manylinux2014_x86_64.whl (16.0 MB)\n",
            "\u001b[2K   \u001b[90m━━━━━━━━━━━━━━━━━━━━━━━━━━━━━━━━━━━━━━━━\u001b[0m \u001b[32m16.0/16.0 MB\u001b[0m \u001b[31m58.8 MB/s\u001b[0m eta \u001b[36m0:00:00\u001b[0m\n",
            "\u001b[?25hDownloading onnx_simplifier-0.4.36-cp310-cp310-manylinux_2_17_x86_64.manylinux2014_x86_64.whl (2.3 MB)\n",
            "\u001b[2K   \u001b[90m━━━━━━━━━━━━━━━━━━━━━━━━━━━━━━━━━━━━━━━━\u001b[0m \u001b[32m2.3/2.3 MB\u001b[0m \u001b[31m45.4 MB/s\u001b[0m eta \u001b[36m0:00:00\u001b[0m\n",
            "\u001b[?25hDownloading thop-0.1.1.post2209072238-py3-none-any.whl (15 kB)\n",
            "Installing collected packages: addict, onnx, thop, onnx-simplifier\n",
            "Successfully installed addict-2.4.0 onnx-1.17.0 onnx-simplifier-0.4.36 thop-0.1.1.post2209072238\n"
          ]
        }
      ],
      "source": [
        "# YOLOv6'yı GitHub'dan klonlayın\n",
        "!git clone https://github.com/meituan/YOLOv6.git\n",
        "%cd YOLOv6\n",
        "\n",
        "# Gerekli kütüphaneleri yükleyin\n",
        "!pip install -r requirements.txt\n"
      ]
    },
    {
      "cell_type": "code",
      "source": [
        "import cv2\n",
        "import matplotlib.pyplot as plt\n",
        "import numpy as np\n",
        "import torch\n",
        "import torchvision\n"
      ],
      "metadata": {
        "id": "-SyjWRBpLEDi"
      },
      "execution_count": 5,
      "outputs": []
    },
    {
      "cell_type": "code",
      "source": [
        "from google.colab import drive\n",
        "drive.mount('/content/drive')\n",
        "\n",
        "# Datasetinizi Colab çalışma alanına kopyalayın\n",
        "!mkdir datasets\n",
        "!cp -r /content/drive/MyDrive/dataset/* datasets/\n"
      ],
      "metadata": {
        "colab": {
          "base_uri": "https://localhost:8080/"
        },
        "id": "KMiWmHGETeL7",
        "outputId": "3fa34898-66f1-4159-b825-de5d4c471bbd"
      },
      "execution_count": 6,
      "outputs": [
        {
          "output_type": "stream",
          "name": "stdout",
          "text": [
            "Drive already mounted at /content/drive; to attempt to forcibly remount, call drive.mount(\"/content/drive\", force_remount=True).\n",
            "cp: cannot stat '/content/drive/MyDrive/dataset/*': No such file or directory\n"
          ]
        }
      ]
    },
    {
      "cell_type": "code",
      "source": [
        "!pwd  # Geçerli dizini kontrol eder\n",
        "!ls   # Geçerli dizindeki dosyaları listeler\n"
      ],
      "metadata": {
        "colab": {
          "base_uri": "https://localhost:8080/"
        },
        "id": "9FGY4QMKU5yW",
        "outputId": "535e0c8f-57b6-4e1a-ee7a-0991972a7771"
      },
      "execution_count": 7,
      "outputs": [
        {
          "output_type": "stream",
          "name": "stdout",
          "text": [
            "/content/YOLOv6\n",
            "assets\t data\t   deploy  hubconf.py\t    LICENSE\t  README.md\t    tools\t    yolov6\n",
            "configs  datasets  docs    inference.ipynb  README_cn.md  requirements.txt  tutorial.ipynb\n"
          ]
        }
      ]
    },
    {
      "cell_type": "code",
      "source": [
        "# YOLOv6 GitHub deposunu klonlayın\n",
        "!git clone https://github.com/meituan/YOLOv6.git\n",
        "\n",
        "# YOLOv6 klasörüne geçiş yapın\n",
        "%cd YOLOv6\n"
      ],
      "metadata": {
        "colab": {
          "base_uri": "https://localhost:8080/"
        },
        "id": "4nGIQ_LyVZ3B",
        "outputId": "2d6ab7dd-c153-4a75-bf8f-0d635d31ea55",
        "collapsed": true
      },
      "execution_count": null,
      "outputs": [
        {
          "output_type": "stream",
          "name": "stdout",
          "text": [
            "Cloning into 'YOLOv6'...\n",
            "remote: Enumerating objects: 3838, done.\u001b[K\n",
            "remote: Total 3838 (delta 0), reused 0 (delta 0), pack-reused 3838 (from 1)\u001b[K\n",
            "Receiving objects: 100% (3838/3838), 43.99 MiB | 27.58 MiB/s, done.\n",
            "Resolving deltas: 100% (2297/2297), done.\n",
            "/content/YOLOv6\n"
          ]
        }
      ]
    },
    {
      "cell_type": "code",
      "source": [
        "!ls configs\n"
      ],
      "metadata": {
        "colab": {
          "base_uri": "https://localhost:8080/"
        },
        "id": "d7j_wD7LPrsn",
        "outputId": "8900f70c-86cf-4863-e73d-045c6ad5199e"
      },
      "execution_count": 9,
      "outputs": [
        {
          "output_type": "stream",
          "name": "stdout",
          "text": [
            "base\t    yolov6l6_finetune.py  yolov6m6_finetune.py\tyolov6n6.py\t      yolov6s_finetune.py\n",
            "experiment  yolov6l6.py\t\t  yolov6m6.py\t\tyolov6n_finetune.py   yolov6s.py\n",
            "mbla\t    yolov6l_finetune.py   yolov6m_finetune.py\tyolov6n.py\n",
            "qarepvgg    yolov6_lite\t\t  yolov6m.py\t\tyolov6s6_finetune.py\n",
            "repopt\t    yolov6l.py\t\t  yolov6n6_finetune.py\tyolov6s6.py\n"
          ]
        }
      ]
    },
    {
      "cell_type": "code",
      "source": [
        "!cat configs/yolov6s.py\n"
      ],
      "metadata": {
        "colab": {
          "base_uri": "https://localhost:8080/"
        },
        "id": "lzIfTC1fQhja",
        "outputId": "d7d38247-916c-46d4-b02a-ad0db086be9a"
      },
      "execution_count": 10,
      "outputs": [
        {
          "output_type": "stream",
          "name": "stdout",
          "text": [
            "# YOLOv6s model\n",
            "model = dict(\n",
            "    type='YOLOv6s',\n",
            "    pretrained=None,\n",
            "    depth_multiple=0.33,\n",
            "    width_multiple=0.50,\n",
            "    backbone=dict(\n",
            "        type='EfficientRep',\n",
            "        num_repeats=[1, 6, 12, 18, 6],\n",
            "        out_channels=[64, 128, 256, 512, 1024],\n",
            "        fuse_P2=True,\n",
            "        cspsppf=True,\n",
            "        ),\n",
            "    neck=dict(\n",
            "        type='RepBiFPANNeck',\n",
            "        num_repeats=[12, 12, 12, 12],\n",
            "        out_channels=[256, 128, 128, 256, 256, 512],\n",
            "        ),\n",
            "    head=dict(\n",
            "        type='EffiDeHead',\n",
            "        in_channels=[128, 256, 512],\n",
            "        num_layers=3,\n",
            "        begin_indices=24,\n",
            "        anchors=3,\n",
            "        anchors_init=[[10,13, 19,19, 33,23],\n",
            "                      [30,61, 59,59, 59,119],\n",
            "                      [116,90, 185,185, 373,326]],\n",
            "        out_indices=[17, 20, 23],\n",
            "        strides=[8, 16, 32],\n",
            "        atss_warmup_epoch=0,\n",
            "        iou_type='giou',\n",
            "        use_dfl=False, # set to True if you want to further train with distillation\n",
            "        reg_max=0, # set to 16 if you want to further train with distillation\n",
            "        distill_weight={\n",
            "            'class': 1.0,\n",
            "            'dfl': 1.0,\n",
            "        },\n",
            "    )\n",
            ")\n",
            "\n",
            "solver = dict(\n",
            "    optim='SGD',\n",
            "    lr_scheduler='Cosine',\n",
            "    lr0=0.01,\n",
            "    lrf=0.01,\n",
            "    momentum=0.937,\n",
            "    weight_decay=0.0005,\n",
            "    warmup_epochs=3.0,\n",
            "    warmup_momentum=0.8,\n",
            "    warmup_bias_lr=0.1\n",
            ")\n",
            "\n",
            "data_aug = dict(\n",
            "    hsv_h=0.015,\n",
            "    hsv_s=0.7,\n",
            "    hsv_v=0.4,\n",
            "    degrees=0.0,\n",
            "    translate=0.1,\n",
            "    scale=0.5,\n",
            "    shear=0.0,\n",
            "    flipud=0.0,\n",
            "    fliplr=0.5,\n",
            "    mosaic=1.0,\n",
            "    mixup=0.0,\n",
            ")\n"
          ]
        }
      ]
    },
    {
      "cell_type": "code",
      "source": [
        "!python tools/train.py \\\n",
        "  --data datasets/your_dataset.yaml \\\n",
        "  --cfg configs/yolov6s.yaml \\\n",
        "  --weights yolov6s.pt \\\n",
        "  --device 0\n"
      ],
      "metadata": {
        "colab": {
          "base_uri": "https://localhost:8080/"
        },
        "id": "FbecNtvLVpSB",
        "outputId": "e0a8e663-6e0c-4095-a1a9-fb843485bcd7"
      },
      "execution_count": null,
      "outputs": [
        {
          "output_type": "stream",
          "name": "stdout",
          "text": [
            "2025-01-12 07:07:23.452002: E external/local_xla/xla/stream_executor/cuda/cuda_fft.cc:485] Unable to register cuFFT factory: Attempting to register factory for plugin cuFFT when one has already been registered\n",
            "2025-01-12 07:07:23.478092: E external/local_xla/xla/stream_executor/cuda/cuda_dnn.cc:8454] Unable to register cuDNN factory: Attempting to register factory for plugin cuDNN when one has already been registered\n",
            "2025-01-12 07:07:23.485652: E external/local_xla/xla/stream_executor/cuda/cuda_blas.cc:1452] Unable to register cuBLAS factory: Attempting to register factory for plugin cuBLAS when one has already been registered\n",
            "2025-01-12 07:07:23.504313: I tensorflow/core/platform/cpu_feature_guard.cc:210] This TensorFlow binary is optimized to use available CPU instructions in performance-critical operations.\n",
            "To enable the following instructions: AVX2 FMA, in other operations, rebuild TensorFlow with the appropriate compiler flags.\n",
            "2025-01-12 07:07:24.864903: W tensorflow/compiler/tf2tensorrt/utils/py_utils.cc:38] TF-TRT Warning: Could not find TensorRT\n",
            "usage: train.py [-h] [--data-path DATA_PATH] [--conf-file CONF_FILE] [--img-size IMG_SIZE]\n",
            "                [--rect] [--batch-size BATCH_SIZE] [--epochs EPOCHS] [--workers WORKERS]\n",
            "                [--device DEVICE] [--eval-interval EVAL_INTERVAL] [--eval-final-only]\n",
            "                [--heavy-eval-range HEAVY_EVAL_RANGE] [--check-images] [--check-labels]\n",
            "                [--output-dir OUTPUT_DIR] [--name NAME] [--dist_url DIST_URL]\n",
            "                [--gpu_count GPU_COUNT] [--local_rank LOCAL_RANK] [--resume [RESUME]]\n",
            "                [--write_trainbatch_tb] [--stop_aug_last_n_epoch STOP_AUG_LAST_N_EPOCH]\n",
            "                [--save_ckpt_on_last_n_epoch SAVE_CKPT_ON_LAST_N_EPOCH] [--distill]\n",
            "                [--distill_feat] [--quant] [--calib] [--teacher_model_path TEACHER_MODEL_PATH]\n",
            "                [--temperature TEMPERATURE] [--fuse_ab] [--bs_per_gpu BS_PER_GPU]\n",
            "                [--specific-shape] [--height HEIGHT] [--width WIDTH] [--cache-ram]\n",
            "train.py: error: unrecognized arguments: --cfg configs/yolov6s.yaml --weights yolov6s.pt\n"
          ]
        }
      ]
    },
    {
      "cell_type": "code",
      "source": [
        "!python tools/train.py --help\n"
      ],
      "metadata": {
        "colab": {
          "base_uri": "https://localhost:8080/"
        },
        "id": "PmoHyOcuWAwT",
        "outputId": "ed1554f2-4ad7-4209-cafd-b575bccc5c18",
        "collapsed": true
      },
      "execution_count": null,
      "outputs": [
        {
          "output_type": "stream",
          "name": "stdout",
          "text": [
            "2025-01-12 07:10:12.560562: E external/local_xla/xla/stream_executor/cuda/cuda_fft.cc:485] Unable to register cuFFT factory: Attempting to register factory for plugin cuFFT when one has already been registered\n",
            "2025-01-12 07:10:12.609376: E external/local_xla/xla/stream_executor/cuda/cuda_dnn.cc:8454] Unable to register cuDNN factory: Attempting to register factory for plugin cuDNN when one has already been registered\n",
            "2025-01-12 07:10:12.621703: E external/local_xla/xla/stream_executor/cuda/cuda_blas.cc:1452] Unable to register cuBLAS factory: Attempting to register factory for plugin cuBLAS when one has already been registered\n",
            "2025-01-12 07:10:12.655234: I tensorflow/core/platform/cpu_feature_guard.cc:210] This TensorFlow binary is optimized to use available CPU instructions in performance-critical operations.\n",
            "To enable the following instructions: AVX2 FMA, in other operations, rebuild TensorFlow with the appropriate compiler flags.\n",
            "2025-01-12 07:10:14.311524: W tensorflow/compiler/tf2tensorrt/utils/py_utils.cc:38] TF-TRT Warning: Could not find TensorRT\n",
            "usage: train.py [-h] [--data-path DATA_PATH] [--conf-file CONF_FILE] [--img-size IMG_SIZE]\n",
            "                [--rect] [--batch-size BATCH_SIZE] [--epochs EPOCHS] [--workers WORKERS]\n",
            "                [--device DEVICE] [--eval-interval EVAL_INTERVAL] [--eval-final-only]\n",
            "                [--heavy-eval-range HEAVY_EVAL_RANGE] [--check-images] [--check-labels]\n",
            "                [--output-dir OUTPUT_DIR] [--name NAME] [--dist_url DIST_URL]\n",
            "                [--gpu_count GPU_COUNT] [--local_rank LOCAL_RANK] [--resume [RESUME]]\n",
            "                [--write_trainbatch_tb] [--stop_aug_last_n_epoch STOP_AUG_LAST_N_EPOCH]\n",
            "                [--save_ckpt_on_last_n_epoch SAVE_CKPT_ON_LAST_N_EPOCH] [--distill]\n",
            "                [--distill_feat] [--quant] [--calib] [--teacher_model_path TEACHER_MODEL_PATH]\n",
            "                [--temperature TEMPERATURE] [--fuse_ab] [--bs_per_gpu BS_PER_GPU]\n",
            "                [--specific-shape] [--height HEIGHT] [--width WIDTH] [--cache-ram]\n",
            "\n",
            "YOLOv6 PyTorch Training\n",
            "\n",
            "options:\n",
            "  -h, --help            show this help message and exit\n",
            "  --data-path DATA_PATH\n",
            "                        path of dataset\n",
            "  --conf-file CONF_FILE\n",
            "                        experiments description file\n",
            "  --img-size IMG_SIZE   train, val image size (pixels)\n",
            "  --rect                whether to use rectangular training, default is False\n",
            "  --batch-size BATCH_SIZE\n",
            "                        total batch size for all GPUs\n",
            "  --epochs EPOCHS       number of total epochs to run\n",
            "  --workers WORKERS     number of data loading workers (default: 8)\n",
            "  --device DEVICE       cuda device, i.e. 0 or 0,1,2,3 or cpu\n",
            "  --eval-interval EVAL_INTERVAL\n",
            "                        evaluate at every interval epochs\n",
            "  --eval-final-only     only evaluate at the final epoch\n",
            "  --heavy-eval-range HEAVY_EVAL_RANGE\n",
            "                        evaluating every epoch for last such epochs (can be jointly used with\n",
            "                        --eval-interval)\n",
            "  --check-images        check images when initializing datasets\n",
            "  --check-labels        check label files when initializing datasets\n",
            "  --output-dir OUTPUT_DIR\n",
            "                        path to save outputs\n",
            "  --name NAME           experiment name, saved to output_dir/name\n",
            "  --dist_url DIST_URL   url used to set up distributed training\n",
            "  --gpu_count GPU_COUNT\n",
            "  --local_rank LOCAL_RANK\n",
            "                        DDP parameter\n",
            "  --resume [RESUME]     resume the most recent training\n",
            "  --write_trainbatch_tb\n",
            "                        write train_batch image to tensorboard once an epoch, may slightly slower\n",
            "                        train speed if open\n",
            "  --stop_aug_last_n_epoch STOP_AUG_LAST_N_EPOCH\n",
            "                        stop strong aug at last n epoch, neg value not stop, default 15\n",
            "  --save_ckpt_on_last_n_epoch SAVE_CKPT_ON_LAST_N_EPOCH\n",
            "                        save last n epoch even not best or last, neg value not save\n",
            "  --distill             distill or not\n",
            "  --distill_feat        distill featmap or not\n",
            "  --quant               quant or not\n",
            "  --calib               run ptq\n",
            "  --teacher_model_path TEACHER_MODEL_PATH\n",
            "                        teacher model path\n",
            "  --temperature TEMPERATURE\n",
            "                        distill temperature\n",
            "  --fuse_ab             fuse ab branch in training process or not\n",
            "  --bs_per_gpu BS_PER_GPU\n",
            "                        batch size per GPU for auto-rescale learning rate, set to 16 for P6 models\n",
            "  --specific-shape      rectangular training\n",
            "  --height HEIGHT       image height of model input\n",
            "  --width WIDTH         image width of model input\n",
            "  --cache-ram           whether to cache images into RAM to speed up training\n"
          ]
        }
      ]
    },
    {
      "cell_type": "code",
      "source": [
        "!python tools/train.py \\\n",
        "  --data datasets/your_dataset.yaml \\\n",
        "  --img-size 640 \\\n",
        "  --batch-size 16 \\\n",
        "  --epochs 50 \\\n",
        "  --weights yolov6s.pt \\\n",
        "  --device 0\n"
      ],
      "metadata": {
        "colab": {
          "base_uri": "https://localhost:8080/"
        },
        "id": "bXltgw87Wc67",
        "outputId": "61f87776-02d3-41b1-d6ff-718bb8f1306d",
        "collapsed": true
      },
      "execution_count": null,
      "outputs": [
        {
          "output_type": "stream",
          "name": "stdout",
          "text": [
            "2025-01-12 07:10:50.999744: E external/local_xla/xla/stream_executor/cuda/cuda_fft.cc:485] Unable to register cuFFT factory: Attempting to register factory for plugin cuFFT when one has already been registered\n",
            "2025-01-12 07:10:51.025866: E external/local_xla/xla/stream_executor/cuda/cuda_dnn.cc:8454] Unable to register cuDNN factory: Attempting to register factory for plugin cuDNN when one has already been registered\n",
            "2025-01-12 07:10:51.032870: E external/local_xla/xla/stream_executor/cuda/cuda_blas.cc:1452] Unable to register cuBLAS factory: Attempting to register factory for plugin cuBLAS when one has already been registered\n",
            "2025-01-12 07:10:51.051809: I tensorflow/core/platform/cpu_feature_guard.cc:210] This TensorFlow binary is optimized to use available CPU instructions in performance-critical operations.\n",
            "To enable the following instructions: AVX2 FMA, in other operations, rebuild TensorFlow with the appropriate compiler flags.\n",
            "2025-01-12 07:10:52.460294: W tensorflow/compiler/tf2tensorrt/utils/py_utils.cc:38] TF-TRT Warning: Could not find TensorRT\n",
            "usage: train.py [-h] [--data-path DATA_PATH] [--conf-file CONF_FILE] [--img-size IMG_SIZE]\n",
            "                [--rect] [--batch-size BATCH_SIZE] [--epochs EPOCHS] [--workers WORKERS]\n",
            "                [--device DEVICE] [--eval-interval EVAL_INTERVAL] [--eval-final-only]\n",
            "                [--heavy-eval-range HEAVY_EVAL_RANGE] [--check-images] [--check-labels]\n",
            "                [--output-dir OUTPUT_DIR] [--name NAME] [--dist_url DIST_URL]\n",
            "                [--gpu_count GPU_COUNT] [--local_rank LOCAL_RANK] [--resume [RESUME]]\n",
            "                [--write_trainbatch_tb] [--stop_aug_last_n_epoch STOP_AUG_LAST_N_EPOCH]\n",
            "                [--save_ckpt_on_last_n_epoch SAVE_CKPT_ON_LAST_N_EPOCH] [--distill]\n",
            "                [--distill_feat] [--quant] [--calib] [--teacher_model_path TEACHER_MODEL_PATH]\n",
            "                [--temperature TEMPERATURE] [--fuse_ab] [--bs_per_gpu BS_PER_GPU]\n",
            "                [--specific-shape] [--height HEIGHT] [--width WIDTH] [--cache-ram]\n",
            "train.py: error: unrecognized arguments: --weights yolov6s.pt\n"
          ]
        }
      ]
    },
    {
      "cell_type": "code",
      "source": [
        "!ls configs"
      ],
      "metadata": {
        "colab": {
          "base_uri": "https://localhost:8080/"
        },
        "id": "vz_0WOAqPv21",
        "outputId": "4b50356b-62ff-4930-c675-10421ee77939"
      },
      "execution_count": 3,
      "outputs": [
        {
          "output_type": "stream",
          "name": "stdout",
          "text": [
            "ls: cannot access 'configs': No such file or directory\n"
          ]
        }
      ]
    }
  ]
}